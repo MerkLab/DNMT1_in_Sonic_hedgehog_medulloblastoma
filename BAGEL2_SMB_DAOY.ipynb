{
 "cells": [
  {
   "cell_type": "code",
   "execution_count": 1,
   "id": "65344e80",
   "metadata": {},
   "outputs": [
    {
     "name": "stdout",
     "output_type": "stream",
     "text": [
      " Datentr„ger in Laufwerk C: ist Boot\n",
      " Volumeseriennummer: CC32-00A1\n",
      "\n",
      " Verzeichnis von C:\\Users\\Daniel Merk\\Documents\\T�bingen\\SHH MB\\Screens_SMB_DAOY\\04 BAGEL2\\input\n",
      "\n",
      "12/12/2023  02:40 PM    <DIR>          .\n",
      "12/12/2023  02:40 PM    <DIR>          ..\n",
      "12/12/2023  02:40 PM    <DIR>          .ipynb_checkpoints\n",
      "06/23/2021  04:55 PM            41,656 BAGEL.py\n",
      "12/12/2023  02:39 PM                72 BAGEL2_SMB_DAOY.ipynb\n",
      "12/12/2023  02:33 PM         4,302,182 DAOY_corLFC_BAGEL.txt\n",
      "12/12/2023  02:02 PM               355 human_pan_species_control_essentials.txt\n",
      "12/12/2023  02:05 PM               365 human_pan_species_control_nonessentials.txt\n",
      "12/12/2023  02:36 PM               355 mouse_pan_species_control_essentials.txt\n",
      "12/12/2023  02:37 PM               378 mouse_pan_species_control_nonessentials.txt\n",
      "12/12/2023  02:31 PM         5,173,817 SMB21_corLFC_BAGEL.txt\n",
      "               8 Datei(en),      9,519,180 Bytes\n",
      "               3 Verzeichnis(se), 18,911,252,480 Bytes frei\n"
     ]
    }
   ],
   "source": [
    "ls"
   ]
  },
  {
   "cell_type": "code",
   "execution_count": 2,
   "id": "c35d7c7a",
   "metadata": {},
   "outputs": [],
   "source": [
    "import pandas as pd"
   ]
  },
  {
   "cell_type": "code",
   "execution_count": 3,
   "id": "f807f6d6",
   "metadata": {},
   "outputs": [
    {
     "name": "stdout",
     "output_type": "stream",
     "text": [
      "Populating the interactive namespace from numpy and matplotlib\n"
     ]
    }
   ],
   "source": [
    "%pylab inline"
   ]
  },
  {
   "cell_type": "code",
   "execution_count": 4,
   "id": "1f82c736",
   "metadata": {},
   "outputs": [
    {
     "name": "stdout",
     "output_type": "stream",
     "text": [
      "Usage: BAGEL.py bf [OPTIONS]\n",
      "\n",
      "          Calculate Bayes Factors from an input fold change file:\n",
      "\n",
      "                  BAGEL.py bf -i [fold change] -o [output file] -e [essentials genes] -n [nonessentials genes] -c [columns]\n",
      "\n",
      "          Calculates a log2 Bayes Factor for each gene. Positive BFs indicate confidence that the gene is essential.\n",
      "          Output written to the [output file] contains: gene name, mean Bayes Factor across all iterations, std deviation of\n",
      "          BFs, and number of iterations in which the gene was part of the test set (and a BF was calculated[output file].\n",
      "\n",
      "          Required options:\n",
      "              -i --fold-change [fold change file]                     Tab-delimited file of reagents and fold changes\n",
      "                                                                      (see documentation for format).\n",
      "              -o, --output-file [output file]                         Output filename\n",
      "              -e, --essential-genes [reference essentials]            File with list of training set of essential genes\n",
      "              -n, --non-essential-genes [reference nonessentials]     File with list of training set of nonessential genes\n",
      "              -c [columns to test]                                    comma-delimited list of columns in input file to\n",
      "                                                                      include in analyisis\n",
      "\n",
      "          Network options:\n",
      "              -w  [network file]    Enable Network boosting. Tab-delmited file of edges. [GeneA (\\t) GeneB]\n",
      "      '\n",
      "\n",
      "          Multi-target guides filtering options:\n",
      "              -m, --filter-multi-target     Enable filtering multi-targeting guide RNAs\n",
      "              --align-info  [file]          Input precalculated align-info file\n",
      "              -m0, --loci-without-mismatch  Filtering guide RNAs without mismatch targeting over than [N] loci, default = 10\n",
      "              -m1, --loci-with-mismatch     Filtering guide RNAs with 1-bp mismatch targeting over than [N] loci, default = 10\n",
      "\n",
      "          Other options:\n",
      "              -b, --bootstrapping            Use bootstrapping instead of cross-validation (Slow)\n",
      "              -NS, --no-resampling           Run BAGEL without resampling\n",
      "              -s, --small-sample             Low-fat BAGEL, Only resampled training set (Bootstrapping, iteration = 100)\n",
      "              -r  --sgrna-bayes-factors      Calculate sgRNA-wise Bayes Factor\n",
      "              -f  --equalise-sgrna-no        Equalize the number of sgRNAs per gene to particular value [Number]\n",
      "              -p  --equalise-rep-no          Equalize the number of repicates to particular value [Number]\n",
      "              -N  --no-of-cross-validations  Number of sections for cross validation (default 10)\n",
      "              -NB  --bootstraps-iterations   Number of bootstrap iterations (default 1000)\n",
      "              -s, --seed=N                   Define random seed\n",
      "              -h, --help                     Show this help text\n",
      "\n",
      "          Example:\n",
      "\n",
      "                  BAGEL.py bf -i fc_file.txt -o results.bf -e ess_training_set.txt -n noness_training_set.txt -c 1,2,3\n",
      "\n",
      "\n",
      "\n",
      "Options:\n",
      "  -i, --fold-change PATH          [required]\n",
      "  -o, --output-file TEXT          [required]\n",
      "  -e, --essential-genes PATH      [required]\n",
      "  -n, --non-essential-genes PATH  [required]\n",
      "  -c, --columns-to-test TEXT      [required]\n",
      "  -w, --network-file [network File]\n",
      "  -m, --filter-multi-target\n",
      "  -m0, --loci-without-mismatch INTEGER\n",
      "  -m1, --loci-with-mismatch INTEGER\n",
      "  --align-info --align-info [File]\n",
      "  -b, --use-bootstrapping\n",
      "  -NS, --no-resampling\n",
      "  -s, --use-small-sample\n",
      "  -N, --no-of-cross-validations INTEGER\n",
      "  -NB, --bootstrap-iterations INTEGER\n",
      "  -r, --sgrna-bayes-factors\n",
      "  -f, --equalise-sgrna-no INTEGER\n",
      "  -s, --seed INTEGER\n",
      "  -t, --run-test-mode\n",
      "  -p, --equalise-rep-no INTEGER\n",
      "  -h, --help                      Show this message and exit.\n"
     ]
    }
   ],
   "source": [
    "!BAGEL.py bf -h"
   ]
  },
  {
   "cell_type": "code",
   "execution_count": 5,
   "id": "0cce9c69",
   "metadata": {},
   "outputs": [
    {
     "name": "stdout",
     "output_type": "stream",
     "text": [
      " Datentr„ger in Laufwerk C: ist Boot\n",
      " Volumeseriennummer: CC32-00A1\n",
      "\n",
      " Verzeichnis von C:\\Users\\Daniel Merk\\Documents\\T�bingen\\SHH MB\\Screens_SMB_DAOY\\04 BAGEL2\\input\n",
      "\n",
      "12/12/2023  02:41 PM    <DIR>          .\n",
      "12/12/2023  02:41 PM    <DIR>          ..\n",
      "12/12/2023  02:40 PM    <DIR>          .ipynb_checkpoints\n",
      "06/23/2021  04:55 PM            41,656 BAGEL.py\n",
      "12/12/2023  02:41 PM             2,158 BAGEL2_SMB_DAOY.ipynb\n",
      "12/12/2023  02:33 PM         4,302,182 DAOY_corLFC_BAGEL.txt\n",
      "12/12/2023  02:02 PM               355 human_pan_species_control_essentials.txt\n",
      "12/12/2023  02:05 PM               365 human_pan_species_control_nonessentials.txt\n",
      "12/12/2023  02:36 PM               355 mouse_pan_species_control_essentials.txt\n",
      "12/12/2023  02:37 PM               378 mouse_pan_species_control_nonessentials.txt\n",
      "12/12/2023  02:31 PM         5,173,817 SMB21_corLFC_BAGEL.txt\n",
      "               8 Datei(en),      9,521,266 Bytes\n",
      "               3 Verzeichnis(se), 18,914,623,488 Bytes frei\n"
     ]
    }
   ],
   "source": [
    "ls"
   ]
  },
  {
   "cell_type": "code",
   "execution_count": 8,
   "id": "6151475c",
   "metadata": {},
   "outputs": [
    {
     "name": "stdout",
     "output_type": "stream",
     "text": [
      "Using column:  SMB21_REP_A, SMB21_REP_B, SMB21_REP_C\n",
      "Number of unique genes:  19672\n",
      "Number of reference essentials: 50\n",
      "Number of reference nonessentials: 50\n",
      "Iter TrainEss TrainNon TestSet\n",
      "0 41 42 1968\n",
      "1 44 48 1968\n",
      "2 43 39 1967\n",
      "3 46 47 1967\n",
      "4 44 44 1967\n",
      "5 43 42 1967\n",
      "6 44 43 1967\n",
      "7 43 46 1967\n",
      "8 42 42 1967\n",
      "9 42 39 1967\n"
     ]
    }
   ],
   "source": [
    "!BAGEL.py bf -i SMB21_corLFC_BAGEL.txt -o \"C:\\Users\\Daniel Merk\\Documents\\Tübingen\\SHH MB\\Screens_SMB_DAOY\\04 BAGEL2\\output\\SMB21_bf.txt\" -e mouse_pan_species_control_essentials.txt -n mouse_pan_species_control_nonessentials.txt -c 1,2,3"
   ]
  },
  {
   "cell_type": "code",
   "execution_count": 9,
   "id": "71c3ea2b",
   "metadata": {},
   "outputs": [
    {
     "name": "stdout",
     "output_type": "stream",
     "text": [
      " Datentr„ger in Laufwerk C: ist Boot\n",
      " Volumeseriennummer: CC32-00A1\n",
      "\n",
      " Verzeichnis von C:\\Users\\Daniel Merk\\Documents\\T�bingen\\SHH MB\\Screens_SMB_DAOY\\04 BAGEL2\\input\n",
      "\n",
      "12/12/2023  02:52 PM    <DIR>          .\n",
      "12/12/2023  02:52 PM    <DIR>          ..\n",
      "12/12/2023  02:40 PM    <DIR>          .ipynb_checkpoints\n",
      "06/23/2021  04:55 PM            41,656 BAGEL.py\n",
      "12/12/2023  02:51 PM             9,697 BAGEL2_SMB_DAOY.ipynb\n",
      "12/12/2023  02:33 PM         4,302,182 DAOY_corLFC_BAGEL.txt\n",
      "12/12/2023  02:02 PM               355 human_pan_species_control_essentials.txt\n",
      "12/12/2023  02:05 PM               365 human_pan_species_control_nonessentials.txt\n",
      "12/12/2023  02:36 PM               355 mouse_pan_species_control_essentials.txt\n",
      "12/12/2023  02:37 PM               378 mouse_pan_species_control_nonessentials.txt\n",
      "12/12/2023  02:49 PM           308,210 SMB21_bf.txt\n",
      "12/12/2023  02:31 PM         5,173,817 SMB21_corLFC_BAGEL.txt\n",
      "               9 Datei(en),      9,837,015 Bytes\n",
      "               3 Verzeichnis(se), 18,909,884,416 Bytes frei\n"
     ]
    }
   ],
   "source": [
    "ls"
   ]
  },
  {
   "cell_type": "code",
   "execution_count": 10,
   "id": "c73109e5",
   "metadata": {},
   "outputs": [],
   "source": [
    "!BAGEL.py pr -i SMB21_bf.txt -o SMB21_pr.txt -e mouse_pan_species_control_essentials.txt -n mouse_pan_species_control_nonessentials.txt"
   ]
  },
  {
   "cell_type": "code",
   "execution_count": 11,
   "id": "543a870f",
   "metadata": {},
   "outputs": [],
   "source": [
    "pr_data_SMB21 = pd.read_table('SMB21_pr.txt', index_col=0)"
   ]
  },
  {
   "cell_type": "code",
   "execution_count": 12,
   "id": "d3bf6d06",
   "metadata": {
    "scrolled": true
   },
   "outputs": [
    {
     "data": {
      "image/png": "[encoded data removed]",
      "text/plain": [
       "<Figure size 288x288 with 1 Axes>"
      ]
     },
     "metadata": {
      "needs_background": "light"
     },
     "output_type": "display_data"
    }
   ],
   "source": [
    "figure(figsize(4,4))\n",
    "plot(pr_data_SMB21.Recall, pr_data_SMB21.Precision, linewidth=2)\n",
    "xlim(0,1.01)\n",
    "ylim(0,1.02)\n",
    "xlabel('Recall')\n",
    "ylabel('Precision')\n",
    "title('Precision-Recall Plot')\n",
    "savefig(\"PR_curve_SMB21.pdf\")"
   ]
  },
  {
   "cell_type": "code",
   "execution_count": 14,
   "id": "8ebaa813",
   "metadata": {},
   "outputs": [
    {
     "data": {
      "text/plain": [
       "<Figure size 288x144 with 0 Axes>"
      ]
     },
     "metadata": {},
     "output_type": "display_data"
    },
    {
     "data": {
      "image/png": "[encoded data removed]",
      "text/plain": [
       "<Figure size 288x144 with 1 Axes>"
      ]
     },
     "metadata": {
      "needs_background": "light"
     },
     "output_type": "display_data"
    }
   ],
   "source": [
    "figure(figsize(4,2))\n",
    "pr_data_SMB21.hist('BF', bins=50, range=(-100,100))\n",
    "xlabel('Bayes Factor')\n",
    "ylabel('Number of Genes')\n",
    "savefig(\"PR_hist_SMB21.pdf\")"
   ]
  },
  {
   "cell_type": "code",
   "execution_count": 15,
   "id": "42a47a78",
   "metadata": {},
   "outputs": [
    {
     "name": "stdout",
     "output_type": "stream",
     "text": [
      " Datentr„ger in Laufwerk C: ist Boot\n",
      " Volumeseriennummer: CC32-00A1\n",
      "\n",
      " Verzeichnis von C:\\Users\\Daniel Merk\\Documents\\T�bingen\\SHH MB\\Screens_SMB_DAOY\\04 BAGEL2\\input\n",
      "\n",
      "12/12/2023  03:02 PM    <DIR>          .\n",
      "12/12/2023  03:02 PM    <DIR>          ..\n",
      "12/12/2023  02:40 PM    <DIR>          .ipynb_checkpoints\n",
      "06/23/2021  04:55 PM            41,656 BAGEL.py\n",
      "12/12/2023  03:01 PM            27,901 BAGEL2_SMB_DAOY.ipynb\n",
      "12/12/2023  02:33 PM         4,302,182 DAOY_corLFC_BAGEL.txt\n",
      "12/12/2023  02:02 PM               355 human_pan_species_control_essentials.txt\n",
      "12/12/2023  02:05 PM               365 human_pan_species_control_nonessentials.txt\n",
      "12/12/2023  02:36 PM               355 mouse_pan_species_control_essentials.txt\n",
      "12/12/2023  02:37 PM               378 mouse_pan_species_control_nonessentials.txt\n",
      "12/12/2023  02:31 PM         5,173,817 SMB21_corLFC_BAGEL.txt\n",
      "               8 Datei(en),      9,547,009 Bytes\n",
      "               3 Verzeichnis(se), 18,722,455,552 Bytes frei\n"
     ]
    }
   ],
   "source": [
    "ls"
   ]
  },
  {
   "cell_type": "code",
   "execution_count": 16,
   "id": "03bf6066",
   "metadata": {},
   "outputs": [
    {
     "name": "stdout",
     "output_type": "stream",
     "text": [
      "Using column:  DAOY_REP_A, DAOY_REP_B, DAOY_REP_C\n",
      "Number of unique genes:  19112\n",
      "Number of reference essentials: 50\n",
      "Number of reference nonessentials: 50\n",
      "Iter TrainEss TrainNon TestSet\n",
      "0 42 47 1912\n",
      "1 44 44 1912\n",
      "2 45 46 1911\n",
      "3 48 42 1911\n",
      "4 45 46 1911\n",
      "5 45 49 1911\n",
      "6 46 42 1911\n",
      "7 47 45 1911\n",
      "8 43 42 1911\n",
      "9 45 47 1911\n"
     ]
    }
   ],
   "source": [
    "!BAGEL.py bf -i DAOY_corLFC_BAGEL.txt -o DAOY_bf.txt -e human_pan_species_control_essentials.txt -n human_pan_species_control_nonessentials.txt -c 1,2,3"
   ]
  },
  {
   "cell_type": "code",
   "execution_count": 17,
   "id": "1b8e403d",
   "metadata": {},
   "outputs": [],
   "source": [
    "!BAGEL.py pr -i DAOY_bf.txt -o DAOY_pr.txt -e human_pan_species_control_essentials.txt -n human_pan_species_control_nonessentials.txt"
   ]
  },
  {
   "cell_type": "code",
   "execution_count": 18,
   "id": "710c1556",
   "metadata": {},
   "outputs": [],
   "source": [
    "pr_data_DAOY = pd.read_table('DAOY_pr.txt', index_col=0)"
   ]
  },
  {
   "cell_type": "code",
   "execution_count": 19,
   "id": "3ba4f14d",
   "metadata": {},
   "outputs": [
    {
     "data": {
      "image/png": "[encoded data removed]",
      "text/plain": [
       "<Figure size 288x288 with 1 Axes>"
      ]
     },
     "metadata": {
      "needs_background": "light"
     },
     "output_type": "display_data"
    }
   ],
   "source": [
    "figure(figsize(4,4))\n",
    "plot(pr_data_DAOY.Recall, pr_data_DAOY.Precision, linewidth=2)\n",
    "xlim(0,1.01)\n",
    "ylim(0,1.02)\n",
    "xlabel('Recall')\n",
    "ylabel('Precision')\n",
    "title('Precision-Recall Plot')\n",
    "savefig(\"PR_curve_DAOY.pdf\")"
   ]
  },
  {
   "cell_type": "code",
   "execution_count": 20,
   "id": "62b8701e",
   "metadata": {},
   "outputs": [
    {
     "data": {
      "text/plain": [
       "<Figure size 288x144 with 0 Axes>"
      ]
     },
     "metadata": {},
     "output_type": "display_data"
    },
    {
     "data": {
      "image/png": "[encoded data removed]",
      "text/plain": [
       "<Figure size 288x144 with 1 Axes>"
      ]
     },
     "metadata": {
      "needs_background": "light"
     },
     "output_type": "display_data"
    }
   ],
   "source": [
    "figure(figsize(4,2))\n",
    "pr_data_DAOY.hist('BF', bins=50, range=(-100,100))\n",
    "xlabel('Bayes Factor')\n",
    "ylabel('Number of Genes')\n",
    "savefig(\"PR_hist_DAOY.pdf\")"
   ]
  },
  {
   "cell_type": "markdown",
   "id": "e7746d58",
   "metadata": {},
   "source": [
    "Repeat BAGEL2 with all human/mouse reference genes for more accurate PR curves"
   ]
  },
  {
   "cell_type": "code",
   "execution_count": 21,
   "id": "922b8e78",
   "metadata": {},
   "outputs": [
    {
     "name": "stdout",
     "output_type": "stream",
     "text": [
      " Datentr„ger in Laufwerk C: ist Boot\n",
      " Volumeseriennummer: CC32-00A1\n",
      "\n",
      " Verzeichnis von C:\\Users\\Daniel Merk\\Documents\\T�bingen\\SHH MB\\Screens_SMB_DAOY\\04 BAGEL2\\input\n",
      "\n",
      "12/12/2023  03:19 PM    <DIR>          .\n",
      "12/12/2023  03:19 PM    <DIR>          ..\n",
      "12/12/2023  02:40 PM    <DIR>          .ipynb_checkpoints\n",
      "06/23/2021  04:55 PM            41,656 BAGEL.py\n",
      "12/12/2023  03:19 PM            46,958 BAGEL2_SMB_DAOY.ipynb\n",
      "12/12/2023  03:18 PM             4,351 CEG_mouse.txt\n",
      "06/23/2021  04:55 PM            15,088 CEGv2.txt\n",
      "12/12/2023  03:04 PM           291,675 DAOY_bf.txt\n",
      "12/12/2023  02:33 PM         4,302,182 DAOY_corLFC_BAGEL.txt\n",
      "12/12/2023  03:05 PM           635,712 DAOY_pr.txt\n",
      "12/12/2023  02:02 PM               355 human_pan_species_control_essentials.txt\n",
      "12/12/2023  02:05 PM               365 human_pan_species_control_nonessentials.txt\n",
      "12/12/2023  02:36 PM               355 mouse_pan_species_control_essentials.txt\n",
      "12/12/2023  02:37 PM               378 mouse_pan_species_control_nonessentials.txt\n",
      "12/12/2023  03:19 PM             3,824 NEG_mouse.txt\n",
      "10/26/2021  08:05 PM            22,612 NEGv1.txt\n",
      "12/12/2023  03:11 PM             9,666 PR_curve_DAOY.pdf\n",
      "12/12/2023  03:12 PM            11,312 PR_hist_DAOY.pdf\n",
      "12/12/2023  02:31 PM         5,173,817 SMB21_corLFC_BAGEL.txt\n",
      "              16 Datei(en),     10,560,306 Bytes\n",
      "               3 Verzeichnis(se), 18,722,623,488 Bytes frei\n"
     ]
    }
   ],
   "source": [
    "ls"
   ]
  },
  {
   "cell_type": "code",
   "execution_count": 22,
   "id": "8194c07b",
   "metadata": {},
   "outputs": [
    {
     "name": "stdout",
     "output_type": "stream",
     "text": [
      "Using column:  SMB21_REP_A, SMB21_REP_B, SMB21_REP_C\n",
      "Number of unique genes:  19672\n",
      "Number of reference essentials: 621\n",
      "Number of reference nonessentials: 499\n",
      "Iter TrainEss TrainNon TestSet\n",
      "0 546 438 1968\n",
      "1 540 435 1968\n",
      "2 538 431 1967\n",
      "3 543 436 1967\n",
      "4 537 445 1967\n",
      "5 536 434 1967\n",
      "6 538 433 1967\n",
      "7 538 449 1967\n",
      "8 537 434 1967\n",
      "9 538 439 1967\n"
     ]
    }
   ],
   "source": [
    "!BAGEL.py bf -i SMB21_corLFC_BAGEL.txt -o SMB21_bf_allref.txt -e CEG_mouse.txt -n NEG_mouse.txt -c 1,2,3"
   ]
  },
  {
   "cell_type": "code",
   "execution_count": 25,
   "id": "de0c233b",
   "metadata": {},
   "outputs": [],
   "source": [
    "!BAGEL.py pr -i SMB21_bf_allref.txt -o SMB21_pr_allref.txt -e CEG_mouse.txt -n NEG_mouse.txt"
   ]
  },
  {
   "cell_type": "code",
   "execution_count": 26,
   "id": "6a82d745",
   "metadata": {},
   "outputs": [],
   "source": [
    "pr_data_SMB_allref = pd.read_table('SMB21_pr_allref.txt', index_col=0)"
   ]
  },
  {
   "cell_type": "code",
   "execution_count": 27,
   "id": "fdee3beb",
   "metadata": {},
   "outputs": [
    {
     "data": {
      "image/png": "[encoded data removed]",
      "text/plain": [
       "<Figure size 288x288 with 1 Axes>"
      ]
     },
     "metadata": {
      "needs_background": "light"
     },
     "output_type": "display_data"
    }
   ],
   "source": [
    "figure(figsize(4,4))\n",
    "plot(pr_data_SMB_allref.Recall, pr_data_SMB_allref.Precision, linewidth=2)\n",
    "xlim(0,1.01)\n",
    "ylim(0,1.02)\n",
    "xlabel('Recall')\n",
    "ylabel('Precision')\n",
    "title('Precision-Recall Plot')\n",
    "savefig(\"PR_curve_SMB21_allref.pdf\")"
   ]
  },
  {
   "cell_type": "code",
   "execution_count": 28,
   "id": "a09daab7",
   "metadata": {},
   "outputs": [
    {
     "name": "stdout",
     "output_type": "stream",
     "text": [
      "Using column:  DAOY_REP_A, DAOY_REP_B, DAOY_REP_C\n",
      "Number of unique genes:  19112\n",
      "Number of reference essentials: 684\n",
      "Number of reference nonessentials: 926\n",
      "Iter TrainEss TrainNon TestSet\n",
      "0 595 794 1912\n",
      "1 603 834 1912\n",
      "2 594 799 1911\n",
      "3 591 804 1911\n",
      "4 587 832 1911\n",
      "5 584 798 1911\n",
      "6 607 796 1911\n",
      "7 596 810 1911\n",
      "8 584 797 1911\n",
      "9 608 800 1911\n"
     ]
    }
   ],
   "source": [
    "!BAGEL.py bf -i DAOY_corLFC_BAGEL.txt -o DAOY_bf_allref.txt -e CEGv2.txt -n NEGv1.txt -c 1,2,3"
   ]
  },
  {
   "cell_type": "code",
   "execution_count": 29,
   "id": "5b33173c",
   "metadata": {},
   "outputs": [],
   "source": [
    "!BAGEL.py pr -i DAOY_bf_allref.txt -o DAOY_pr_allref.txt -e CEGv2.txt -n NEGv1.txt"
   ]
  },
  {
   "cell_type": "code",
   "execution_count": 30,
   "id": "018760ed",
   "metadata": {},
   "outputs": [],
   "source": [
    "pr_data_DAOY_allref = pd.read_table('DAOY_pr_allref.txt', index_col=0)"
   ]
  },
  {
   "cell_type": "code",
   "execution_count": 33,
   "id": "46eaebcb",
   "metadata": {},
   "outputs": [
    {
     "data": {
      "image/png": "[encoded data removed]",
      "text/plain": [
       "<Figure size 288x288 with 1 Axes>"
      ]
     },
     "metadata": {
      "needs_background": "light"
     },
     "output_type": "display_data"
    }
   ],
   "source": [
    "figure(figsize(4,4))\n",
    "plot(pr_data_DAOY_allref.Recall, pr_data_DAOY_allref.Precision, linewidth=2)\n",
    "xlim(0,1.01)\n",
    "ylim(0,1.02)\n",
    "xlabel('Recall')\n",
    "ylabel('Precision')\n",
    "title('Precision-Recall Plot')\n",
    "savefig(\"PR_curve_DAOY_allref.pdf\")"
   ]
  },
  {
   "cell_type": "code",
   "execution_count": 34,
   "id": "0d7349a1",
   "metadata": {},
   "outputs": [
    {
     "data": {
      "image/png": "[encoded data removed]",
      "text/plain": [
       "<Figure size 288x288 with 1 Axes>"
      ]
     },
     "metadata": {
      "needs_background": "light"
     },
     "output_type": "display_data"
    }
   ],
   "source": [
    "figure(figsize(4,4))\n",
    "plot(pr_data_DAOY_allref.Recall, pr_data_DAOY_allref.Precision, linewidth=2, color=\"red\")\n",
    "plot(pr_data_SMB_allref.Recall, pr_data_SMB_allref.Precision, linewidth=2, color=\"blue\")\n",
    "xlim(0,1.01)\n",
    "ylim(0,1.02)\n",
    "xlabel('Recall')\n",
    "ylabel('Precision')\n",
    "title('Precision-Recall Plot')\n",
    "savefig(\"PR_curve_DAOYred_SMBblue_allref.pdf\")"
   ]
  },
  {
   "cell_type": "code",
   "execution_count": null,
   "id": "ca272bfb",
   "metadata": {},
   "outputs": [],
   "source": []
  },
  {
   "cell_type": "code",
   "execution_count": null,
   "id": "60322fa4",
   "metadata": {},
   "outputs": [],
   "source": []
  },
  {
   "cell_type": "code",
   "execution_count": null,
   "id": "fadedd0d",
   "metadata": {},
   "outputs": [],
   "source": []
  }
 ],
 "metadata": {
  "kernelspec": {
   "display_name": "Python 3",
   "language": "python",
   "name": "python3"
  },
  "language_info": {
   "codemirror_mode": {
    "name": "ipython",
    "version": 3
   },
   "file_extension": ".py",
   "mimetype": "text/x-python",
   "name": "python",
   "nbconvert_exporter": "python",
   "pygments_lexer": "ipython3",
   "version": "3.8.8"
  }
 },
 "nbformat": 4,
 "nbformat_minor": 5
}
